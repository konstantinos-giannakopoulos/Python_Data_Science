{
 "cells": [
  {
   "cell_type": "code",
   "execution_count": 1,
   "metadata": {},
   "outputs": [],
   "source": [
    "import numpy as np\n",
    "import pandas as pd\n",
    "import scipy.sparse as sparse\n",
    "from scipy.sparse import csc_matrix\n",
    "from scipy import stats\n",
    "from random import uniform"
   ]
  },
  {
   "cell_type": "code",
   "execution_count": 2,
   "metadata": {},
   "outputs": [
    {
     "name": "stdout",
     "output_type": "stream",
     "text": [
      "Enter dimension m: 3\n",
      "Enter dimension n: 4\n",
      "Enter dimension k: 5\n",
      "Dimensions given: m = 3, n = 4, k = 5 \n"
     ]
    }
   ],
   "source": [
    "# Get user input\n",
    "m = int(input('Enter dimension m: '))\n",
    "n = int(input('Enter dimension n: '))\n",
    "k = int(input('Enter dimension k: '))\n",
    "print(\"Dimensions given: m = {}, n = {}, k = {} \".format(m,n,k))"
   ]
  },
  {
   "cell_type": "code",
   "execution_count": 3,
   "metadata": {},
   "outputs": [
    {
     "name": "stdout",
     "output_type": "stream",
     "text": [
      "\n",
      "\n",
      "  (2, 1)\t15.098228439615136\n"
     ]
    }
   ],
   "source": [
    "# Create matrices A, B\n",
    "\n",
    "# create matrices with density on [2.0,15.5] range\n",
    "rvs = stats.uniform(loc=2.0, scale=15.5).rvs\n",
    "#print(rvs)\n",
    "A = sparse.random(m, n, density = 0.05, data_rvs=rvs)\n",
    "B = sparse.random(n, k, density = 0.05, data_rvs=rvs)\n",
    "print(A)\n",
    "print()\n",
    "print(B)"
   ]
  },
  {
   "cell_type": "code",
   "execution_count": null,
   "metadata": {},
   "outputs": [],
   "source": []
  }
 ],
 "metadata": {
  "kernelspec": {
   "display_name": "Python 3",
   "language": "python",
   "name": "python3"
  },
  "language_info": {
   "codemirror_mode": {
    "name": "ipython",
    "version": 3
   },
   "file_extension": ".py",
   "mimetype": "text/x-python",
   "name": "python",
   "nbconvert_exporter": "python",
   "pygments_lexer": "ipython3",
   "version": "3.6.8"
  }
 },
 "nbformat": 4,
 "nbformat_minor": 4
}
